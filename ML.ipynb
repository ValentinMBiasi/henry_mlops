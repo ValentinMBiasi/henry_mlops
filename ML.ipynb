{
 "cells": [
  {
   "cell_type": "code",
   "execution_count": 4,
   "metadata": {},
   "outputs": [],
   "source": [
    "import pandas as pd\n",
    "import numpy as np\n",
    "import seaborn as sns\n",
    "from sklearn.metrics.pairwise import cosine_similarity\n",
    "from surprise import Reader\n",
    "from surprise import Dataset\n",
    "from surprise import SVD"
   ]
  },
  {
   "attachments": {},
   "cell_type": "markdown",
   "metadata": {},
   "source": [
    "# Loading the data into movies and ratings dataframes"
   ]
  },
  {
   "cell_type": "code",
   "execution_count": 5,
   "metadata": {},
   "outputs": [],
   "source": [
    "titles = pd.read_csv(\"data_transformed.csv\")\n",
    "ratings = pd.read_csv(\"ratings.csv\")"
   ]
  },
  {
   "attachments": {},
   "cell_type": "markdown",
   "metadata": {},
   "source": [
    "# EDA"
   ]
  },
  {
   "cell_type": "code",
   "execution_count": 4,
   "metadata": {},
   "outputs": [
    {
     "name": "stdout",
     "output_type": "stream",
     "text": [
      "<class 'pandas.core.frame.DataFrame'>\n",
      "RangeIndex: 11024289 entries, 0 to 11024288\n",
      "Data columns (total 4 columns):\n",
      " #   Column     Dtype  \n",
      "---  ------     -----  \n",
      " 0   userId     int64  \n",
      " 1   rating     float64\n",
      " 2   timestamp  int64  \n",
      " 3   movieId    object \n",
      "dtypes: float64(1), int64(2), object(1)\n",
      "memory usage: 336.4+ MB\n",
      "None\n"
     ]
    }
   ],
   "source": [
    "print(ratings.info())"
   ]
  },
  {
   "cell_type": "code",
   "execution_count": 5,
   "metadata": {},
   "outputs": [
    {
     "name": "stdout",
     "output_type": "stream",
     "text": [
      "userId       0\n",
      "rating       0\n",
      "timestamp    0\n",
      "movieId      0\n",
      "dtype: int64\n"
     ]
    }
   ],
   "source": [
    "print(ratings.isnull().sum())"
   ]
  },
  {
   "cell_type": "code",
   "execution_count": 7,
   "metadata": {},
   "outputs": [
    {
     "name": "stdout",
     "output_type": "stream",
     "text": [
      "<class 'pandas.core.frame.DataFrame'>\n",
      "RangeIndex: 22998 entries, 0 to 22997\n",
      "Data columns (total 14 columns):\n",
      " #   Column         Non-Null Count  Dtype  \n",
      "---  ------         --------------  -----  \n",
      " 0   type           22998 non-null  object \n",
      " 1   title          22998 non-null  object \n",
      " 2   director       14739 non-null  object \n",
      " 3   cast           17677 non-null  object \n",
      " 4   country        11499 non-null  object \n",
      " 5   date_added     13444 non-null  object \n",
      " 6   release_year   22998 non-null  int64  \n",
      " 7   rating         22998 non-null  object \n",
      " 8   listed_in      22998 non-null  object \n",
      " 9   description    22994 non-null  object \n",
      " 10  id             22998 non-null  object \n",
      " 11  duration_int   22516 non-null  float64\n",
      " 12  duration_type  22516 non-null  object \n",
      " 13  score          22998 non-null  float64\n",
      "dtypes: float64(2), int64(1), object(11)\n",
      "memory usage: 2.5+ MB\n"
     ]
    }
   ],
   "source": [
    "titles.info()"
   ]
  },
  {
   "cell_type": "code",
   "execution_count": 8,
   "metadata": {},
   "outputs": [
    {
     "data": {
      "text/plain": [
       "type                 0\n",
       "title                0\n",
       "director          8259\n",
       "cast              5321\n",
       "country          11499\n",
       "date_added        9554\n",
       "release_year         0\n",
       "rating               0\n",
       "listed_in            0\n",
       "description          4\n",
       "id                   0\n",
       "duration_int       482\n",
       "duration_type      482\n",
       "score                0\n",
       "dtype: int64"
      ]
     },
     "execution_count": 8,
     "metadata": {},
     "output_type": "execute_result"
    }
   ],
   "source": [
    "titles.isnull().sum()"
   ]
  },
  {
   "cell_type": "code",
   "execution_count": 9,
   "metadata": {},
   "outputs": [
    {
     "name": "stdout",
     "output_type": "stream",
     "text": [
      "The ratings dataset has 115077 unique users\n",
      "The ratings dataset has 22998 unique movies\n",
      "The ratings dataset has 10 unique ratings\n",
      "The unique ratings are [0.5, 1.0, 1.5, 2.0, 2.5, 3.0, 3.5, 4.0, 4.5, 5.0]\n"
     ]
    }
   ],
   "source": [
    "# Number of users\n",
    "print('The ratings dataset has', ratings['userId'].nunique(), 'unique users')\n",
    "\n",
    "# Number of movies\n",
    "print('The ratings dataset has', ratings['movieId'].nunique(), 'unique movies')\n",
    "\n",
    "# Number of ratings\n",
    "print('The ratings dataset has', ratings['rating'].nunique(), 'unique ratings')\n",
    "\n",
    "# List of unique ratings\n",
    "print('The unique ratings are', sorted(ratings['rating'].unique()))"
   ]
  },
  {
   "cell_type": "code",
   "execution_count": 11,
   "metadata": {},
   "outputs": [
    {
     "data": {
      "text/plain": [
       "<AxesSubplot: ylabel='Count'>"
      ]
     },
     "execution_count": 11,
     "metadata": {},
     "output_type": "execute_result"
    },
    {
     "data": {
      "image/png": "[encoded data removed]",
      "text/plain": [
       "<Figure size 640x480 with 1 Axes>"
      ]
     },
     "metadata": {},
     "output_type": "display_data"
    }
   ],
   "source": [
    "movie_ratings_count = ratings.groupby('movieId').size() #Counting the amount of ratings given to each movie\n",
    "sns.histplot(movie_ratings_count, binwidth=1) #Visualizing the distribution"
   ]
  },
  {
   "cell_type": "code",
   "execution_count": 6,
   "metadata": {},
   "outputs": [
    {
     "name": "stdout",
     "output_type": "stream",
     "text": [
      "         userId  rating   timestamp movieId\n",
      "423          11     3.0  1231677016   ds275\n",
      "429          11     2.0  1231677440   ds275\n",
      "504          11     4.0  1231676547  ns3022\n",
      "582          11     3.5  1231676662  ns3022\n",
      "790          12     1.0   943910471  ns3580\n",
      "...         ...     ...         ...     ...\n",
      "9523469  270887     5.0  1487515358  ns8777\n",
      "9521045  270887     5.0  1463582023  ns8787\n",
      "9522011  270887     5.0  1463529592  ns8787\n",
      "9524104  270896     4.0  1257034390  as7006\n",
      "9524242  270896     4.0  1257031889  as7006\n",
      "\n",
      "[254268 rows x 4 columns]\n"
     ]
    }
   ],
   "source": [
    "#We get check for duplicates, a given user rating the same movie twice.\n",
    "duplicates = ratings.duplicated(subset=['userId', 'movieId'], keep=False)\n",
    "print(ratings[duplicates].sort_values(['userId', 'movieId']))"
   ]
  },
  {
   "cell_type": "code",
   "execution_count": 7,
   "metadata": {},
   "outputs": [
    {
     "name": "stdout",
     "output_type": "stream",
     "text": [
      "Empty DataFrame\n",
      "Columns: [userId, rating, timestamp, movieId]\n",
      "Index: []\n"
     ]
    }
   ],
   "source": [
    "#We can see the dataframe has duplicates for same user same movie, we decide to take the last rating the user gave through taking the largest timestamp value.\n",
    "ratings = ratings.sort_values('timestamp').drop_duplicates(subset=['userId', 'movieId'], keep='last')\n",
    "\n",
    "#Now we check there are no duplicates left:\n",
    "duplicates = ratings.duplicated(subset=['userId', 'movieId'], keep=False)\n",
    "print(ratings[duplicates].sort_values(['userId', 'movieId']))"
   ]
  },
  {
   "attachments": {},
   "cell_type": "markdown",
   "metadata": {},
   "source": [
    "# Data preprocessing for the model"
   ]
  },
  {
   "cell_type": "code",
   "execution_count": 8,
   "metadata": {},
   "outputs": [],
   "source": [
    "ratings.drop(['timestamp'], axis=1, inplace=True) # We drop timestamp as it will not be of use in the model"
   ]
  },
  {
   "cell_type": "code",
   "execution_count": 34,
   "metadata": {},
   "outputs": [],
   "source": [
    "# We load the datasets with these suprise library functions in order to feed the model\n",
    "reader = Reader(rating_scale=(0.5, 5))\n",
    "data = Dataset.load_from_df(ratings[['userId', 'movieId', 'rating']], reader)"
   ]
  },
  {
   "attachments": {},
   "cell_type": "markdown",
   "metadata": {},
   "source": [
    "# Building the model"
   ]
  },
  {
   "cell_type": "code",
   "execution_count": 35,
   "metadata": {},
   "outputs": [],
   "source": [
    "# Instanciate the SVD algorithm\n",
    "algo = SVD(n_factors=10, random_state=42)\n",
    "\n",
    "trainset = data.build_full_trainset()\n",
    "\n",
    "# Fit the algorithm to the data\n",
    "algo.fit(trainset)\n",
    "\n",
    "# Get the item factors (the features for each movie)\n",
    "item_features = algo.qi"
   ]
  },
  {
   "attachments": {},
   "cell_type": "markdown",
   "metadata": {},
   "source": [
    "#### Now we create a dataframe to be able to map each inner_id the model uses to the title of the movie the API will work with"
   ]
  },
  {
   "cell_type": "code",
   "execution_count": 56,
   "metadata": {},
   "outputs": [],
   "source": [
    "# Create a column storing the inner_id of of each movie in our ratings dataframe\n",
    "ratings['movieModelId'] = ratings['movieId'].apply(trainset.to_inner_iid)"
   ]
  },
  {
   "cell_type": "code",
   "execution_count": 57,
   "metadata": {},
   "outputs": [],
   "source": [
    "# Create the title_ids df containing each pair of movieId and innerId, without duplicate entries\n",
    "title_ids = ratings[['movieId', 'movieModelId']].drop_duplicates()"
   ]
  },
  {
   "cell_type": "code",
   "execution_count": 58,
   "metadata": {},
   "outputs": [],
   "source": [
    "# Add the title column as well, getting each title from the titles df where the movieIds match\n",
    "title_ids['title'] = title_ids['movieId'].apply(lambda x: titles[titles['id'] == x]['title'].values[0])"
   ]
  },
  {
   "cell_type": "code",
   "execution_count": 60,
   "metadata": {},
   "outputs": [],
   "source": [
    "# Make the innerId the index to save space\n",
    "title_ids.set_index('movieModelId', inplace=True)"
   ]
  },
  {
   "cell_type": "code",
   "execution_count": 24,
   "metadata": {},
   "outputs": [],
   "source": [
    "# Export the features of the model and the movie ids to use with the API\n",
    "np.savetxt(\"item_features.csv\", item_features, delimiter=\",\")\n",
    "title_ids.to_csv('title_ids.csv')"
   ]
  }
 ],
 "metadata": {
  "kernelspec": {
   "display_name": "Python 3",
   "language": "python",
   "name": "python3"
  },
  "language_info": {
   "codemirror_mode": {
    "name": "ipython",
    "version": 3
   },
   "file_extension": ".py",
   "mimetype": "text/x-python",
   "name": "python",
   "nbconvert_exporter": "python",
   "pygments_lexer": "ipython3",
   "version": "3.11.0"
  },
  "orig_nbformat": 4
 },
 "nbformat": 4,
 "nbformat_minor": 2
}
